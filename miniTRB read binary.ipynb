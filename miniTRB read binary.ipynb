{
 "cells": [
  {
   "cell_type": "code",
   "execution_count": 5,
   "metadata": {
    "ExecuteTime": {
     "end_time": "2019-12-19T10:41:13.952473Z",
     "start_time": "2019-12-19T10:41:13.948225Z"
    }
   },
   "outputs": [
    {
     "data": {
      "text/html": [
       "<style>.container { width:100% !important; }</style>"
      ],
      "text/plain": [
       "<IPython.core.display.HTML object>"
      ]
     },
     "metadata": {},
     "output_type": "display_data"
    }
   ],
   "source": [
    "from IPython.core.display import display, HTML\n",
    "display(HTML(\"<style>.container { width:100% !important; }</style>\"))"
   ]
  },
  {
   "cell_type": "code",
   "execution_count": 3,
   "metadata": {
    "ExecuteTime": {
     "end_time": "2019-12-18T08:58:50.163765Z",
     "start_time": "2019-12-18T08:58:50.097021Z"
    }
   },
   "outputs": [],
   "source": [
    "import struct                                                                                                    \n",
    "import numpy as np\n",
    "import matplotlib.pyplot as plt\n",
    "from matplotlib.pyplot import figure\n",
    "import pandas as pd\n",
    "import uproot\n",
    "import os\n",
    "\n",
    "def bread(filename, position, size, endianess):\n",
    "  with open(filename, 'rb') as f:\n",
    "    bdata = []\n",
    "    cnt = 0\n",
    "    f.seek(position,0)\n",
    "    \n",
    "    while cnt < size:\n",
    "      bytes = f.read(2)\n",
    "      if bytes == b'':\n",
    "        break\n",
    "      else:\n",
    "        if endianess == \"little\":\n",
    "            bdata.append(struct.unpack('<H', bytes)[0]) # 2bytes\n",
    "        else:\n",
    "            bdata.append(struct.unpack('>H', bytes)[0]) # 2bytes\n",
    "            \n",
    "      cnt += 1  \n",
    "  hdata = [hex(x) for x in bdata]\n",
    "  return bdata, hdata\n",
    "\n",
    "def seek_header(filename):\n",
    "    offset = 0\n",
    "    with open(filename, 'rb') as f:\n",
    "        bdata = []\n",
    "        while True:\n",
    "          bytes = f.read(2)\n",
    "          if bytes == b'':\n",
    "            break\n",
    "          elif bytes == b'\\x90\\xeb' or bytes == b'\\xeb\\x90':\n",
    "            break\n",
    "          else:\n",
    "            offset += 2\n",
    "    return offset\n",
    "\n",
    "def seek_endianess(filename):\n",
    "    print(\"Reading data file {0}\".format(filename))\n",
    "    endianess = 0\n",
    "    offset = 0\n",
    "    with open(filename, 'rb') as f:\n",
    "        bdata = []\n",
    "        while True:\n",
    "          bytes = f.read(2)\n",
    "          if bytes == b'':\n",
    "            break\n",
    "          elif bytes == b'\\xaa\\xbb':\n",
    "            endianess = \"big\"\n",
    "            print(\"File endianess is 'Big Endian'\")\n",
    "            break\n",
    "          elif bytes == b'\\xbb\\xaa':\n",
    "            endianess = \"little\"\n",
    "            print(\"File endianess is 'Little Endian'\")\n",
    "            break\n",
    "          else:\n",
    "            offset += 2\n",
    "    return endianess, offset\n",
    "\n",
    "def check_kind(filename, offset):\n",
    "    kind = 0\n",
    "    with open(filename, 'rb') as f:\n",
    "        f.seek(offset,0)\n",
    "        bytes = f.read(1)\n",
    "        if bytes == b'\\xa0':\n",
    "            kind = \"raw\"\n",
    "        else:\n",
    "            kind = \"compressed\"\n",
    "    return kind\n",
    "        \n",
    "def cread(filename):\n",
    "    with open(filename, 'rb') as f:\n",
    "         print(\"Reading calibration file {0}\".format(filename))\n",
    "         cal = pd.read_csv(filename, skiprows=18, header=None)\n",
    "    return cal\n",
    "\n",
    "def convert(path, cal_file, data_file, signal):\n",
    "    evt = 0\n",
    "    good = True\n",
    "    data = np.array([-999])\n",
    "    out = open(path + \"/txt/\" + data_file + \".csv\", 'w')\n",
    "    \n",
    "    #Load calibration file\n",
    "    cal = cread(path + cal_file)\n",
    "\n",
    "    #Check for binary file endianess\n",
    "    endianess, endianess_offset = seek_endianess(path + data_file)\n",
    "  \n",
    "    #Seek for event header offset\n",
    "    header_offset = seek_header(path + data_file)\n",
    "\n",
    "    #Read kind\n",
    "    kind = check_kind(path + data_file, header_offset + 3)\n",
    "\n",
    "    if kind == \"raw\":\n",
    "        print(\"File {0} is raw data file\".format(path + data_file))\n",
    "    else:\n",
    "        print(\"Error: file is not in raw data format\")\n",
    "        return\n",
    "    \n",
    "    #Read version\n",
    "    _, version = bread(path + data_file, header_offset + endianess_offset -2, 1, endianess)\n",
    "    if version[0] == \"0x1212\":\n",
    "        print(\"File from miniTRB 6VA version\")\n",
    "        miniTRB_channels = 384\n",
    "    elif version[0] == \"0x1313\":\n",
    "        print(\"File from miniTRB 10VA version\")\n",
    "        miniTRB_channels = 640\n",
    "    else:\n",
    "        print(\"Error: invalid miniTRB version\")\n",
    "        return\n",
    "    \n",
    "    while good:\n",
    "        bdata, hdata = bread(path + data_file, evt*1024 + header_offset + 4, miniTRB_channels, endianess)\n",
    "        raw_values = np.array(bdata)\n",
    "        if raw_values.shape[0] == miniTRB_channels:\n",
    "            if signal:\n",
    "                raw_values = np.concatenate((raw_values[::2],raw_values[1::2])) - cal[3].to_numpy()\n",
    "                raw_values[cal[6].to_numpy() > 0] = 0\n",
    "                np.savetxt(out,raw_values.reshape(1, miniTRB_channels).astype(float), fmt='%1.3f', delimiter=',')\n",
    "                evt += 1\n",
    "            else:\n",
    "                raw_values = np.concatenate((raw_values[::2],raw_values[1::2]))\n",
    "                raw_values[cal[6].to_numpy() > 0] = 0\n",
    "                np.savetxt(out,raw_values.reshape(1, miniTRB_channels).astype(int), fmt='%i', delimiter=',')\n",
    "                evt += 1\n",
    "            print(\"Saving event {0}\".format(evt), end='\\r')\n",
    "        else:\n",
    "            good = False\n",
    "            break\n",
    "    out.close()       \n",
    "    print(\"Found {0} events\".format(evt))\n",
    "    \n",
    "    \n",
    "    \n",
    "def histo(path, cal_file, data_file):\n",
    "    evt = 0\n",
    "    good = True\n",
    "    data = np.array([-999])\n",
    "    \n",
    "    #Load calibration file\n",
    "    cal = cread(path + cal_file)\n",
    "\n",
    "    #Check for binary file endianess\n",
    "    endianess, endianess_offset = seek_endianess(path + data_file)\n",
    "  \n",
    "    #Seek for event header offset\n",
    "    header_offset = seek_header(path + data_file)\n",
    "\n",
    "    #Read kind\n",
    "    kind = check_kind(path + data_file, header_offset + 3)\n",
    "\n",
    "    if kind == \"raw\":\n",
    "        print(\"File {0} is raw data file\".format(path + data_file))\n",
    "    else:\n",
    "        print(\"Error: file is not in raw data format\")\n",
    "        return\n",
    "    \n",
    "    #Read version\n",
    "    _, version = bread(path + data_file, header_offset + endianess_offset -2, 1, endianess)\n",
    "    if version[0] == \"0x1212\":\n",
    "        print(\"File from miniTRB 6VA version\")\n",
    "        miniTRB_channels = 384\n",
    "    elif version[0] == \"0x1313\":\n",
    "        print(\"File from miniTRB 10VA version\")\n",
    "        miniTRB_channels = 640\n",
    "    else:\n",
    "        print(\"Error: invalid miniTRB version\")\n",
    "        return\n",
    "    \n",
    "    while good:\n",
    "        bdata, hdata = bread(path + data_file, evt*1024 + header_offset + 4, miniTRB_channels, endianess)\n",
    "        raw_values = np.array(bdata)\n",
    "        if raw_values.shape[0] == miniTRB_channels:\n",
    "            raw_values = np.concatenate((raw_values[::2],raw_values[1::2])) - cal[3].to_numpy()\n",
    "            data = np.append(data,raw_values.max())\n",
    "            evt += 1\n",
    "            print(\"Saving event {0}\".format(evt), end='\\r')\n",
    "        else:\n",
    "            good = False\n",
    "            break\n",
    "    print(\"Found {0} events\".format(evt))\n",
    "    fig=plt.figure(figsize=(16, 9), dpi= 80, facecolor='w', edgecolor='k')\n",
    "    plt.hist(data, bins=250, range=(-10,500), log=False)"
   ]
  },
  {
   "cell_type": "code",
   "execution_count": 4,
   "metadata": {
    "ExecuteTime": {
     "end_time": "2019-12-18T08:58:52.319361Z",
     "start_time": "2019-12-18T08:58:51.367293Z"
    }
   },
   "outputs": [
    {
     "name": "stdout",
     "output_type": "stream",
     "text": [
      "Reading calibration file /home/gsilvest/Work/Dec2019_FOOT_data/HF000T/draft/HF000T_PL_009.cal\n",
      "Reading data file /home/gsilvest/Work/Dec2019_FOOT_data/HF000T/data/HF000T_PL_007.dat\n",
      "File endianess is 'Little Endian'\n",
      "File /home/gsilvest/Work/Dec2019_FOOT_data/HF000T/data/HF000T_PL_007.dat is raw data file\n",
      "File from miniTRB 6VA version\n",
      "Found 1739 events\n"
     ]
    }
   ],
   "source": [
    "if __name__ == \"__main__\":\n",
    "    convert(\"/home/gsilvest/Work/Dec2019_FOOT_data/HF000T/\",\"draft/HF000T_PL_009.cal\",\"data/HF000T_PL_007.dat\", True)"
   ]
  },
  {
   "cell_type": "code",
   "execution_count": 15,
   "metadata": {
    "ExecuteTime": {
     "end_time": "2019-12-17T14:31:13.757718Z",
     "start_time": "2019-12-17T14:31:13.755612Z"
    }
   },
   "outputs": [],
   "source": [
    "if __name__ == \"__main__\":\n",
    "    histo(\"/home/gsilvest/Work/Dec2019_FOOT_data/HF000T/\",\"draft/HF000T_PL_009.cal\",\"data/HF000T_PL_011.dat\")"
   ]
  }
 ],
 "metadata": {
  "kernelspec": {
   "display_name": "Python [conda env:gigi] *",
   "language": "python",
   "name": "conda-env-gigi-py"
  },
  "language_info": {
   "codemirror_mode": {
    "name": "ipython",
    "version": 3
   },
   "file_extension": ".py",
   "mimetype": "text/x-python",
   "name": "python",
   "nbconvert_exporter": "python",
   "pygments_lexer": "ipython3",
   "version": "3.7.5"
  }
 },
 "nbformat": 4,
 "nbformat_minor": 2
}
